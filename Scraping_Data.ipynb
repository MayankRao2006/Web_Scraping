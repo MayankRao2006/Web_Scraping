{
 "cells": [
  {
   "cell_type": "code",
   "execution_count": 2,
   "id": "23711764-8849-4614-b554-7d2a0891956b",
   "metadata": {},
   "outputs": [],
   "source": [
    "import requests\n",
    "from bs4 import BeautifulSoup "
   ]
  },
  {
   "cell_type": "code",
   "execution_count": 3,
   "id": "8ee62421-51fe-4565-964a-f25c6a098b95",
   "metadata": {},
   "outputs": [],
   "source": [
    "url = \"https://books.toscrape.com/catalogue/page-2.html\"\n",
    "response = requests.get(url)"
   ]
  },
  {
   "cell_type": "code",
   "execution_count": 6,
   "id": "c383d17b-e4ef-4d6a-8623-720b32fd1844",
   "metadata": {},
   "outputs": [
    {
     "name": "stdout",
     "output_type": "stream",
     "text": [
      "Website was Successfully fetched\n"
     ]
    }
   ],
   "source": [
    "# Checking the status of the website and downloading it if it's successfully got fetched\n",
    "if response.status_code == 200:\n",
    "    print(\"Website was Successfully fetched\")\n",
    "else:\n",
    "    print(\"Unable to fetch the website\")"
   ]
  },
  {
   "cell_type": "code",
   "execution_count": 11,
   "id": "d5c20416-e3a7-4fc9-981b-c46c7d2abb27",
   "metadata": {},
   "outputs": [
    {
     "name": "stdout",
     "output_type": "stream",
     "text": [
      "page1 was successfully downloaded as html\n",
      "page2 was successfully downloaded as html\n",
      "page3 was successfully downloaded as html\n",
      "page4 was successfully downloaded as html\n",
      "page5 was successfully downloaded as html\n",
      "page6 was successfully downloaded as html\n",
      "page7 was successfully downloaded as html\n",
      "page8 was successfully downloaded as html\n",
      "page9 was successfully downloaded as html\n",
      "page10 was successfully downloaded as html\n",
      "page11 was successfully downloaded as html\n",
      "page12 was successfully downloaded as html\n",
      "page13 was successfully downloaded as html\n",
      "page14 was successfully downloaded as html\n",
      "page15 was successfully downloaded as html\n",
      "page16 was successfully downloaded as html\n",
      "page17 was successfully downloaded as html\n",
      "page18 was successfully downloaded as html\n",
      "page19 was successfully downloaded as html\n",
      "page20 was successfully downloaded as html\n",
      "page21 was successfully downloaded as html\n",
      "page22 was successfully downloaded as html\n",
      "page23 was successfully downloaded as html\n",
      "page24 was successfully downloaded as html\n",
      "page25 was successfully downloaded as html\n",
      "page26 was successfully downloaded as html\n",
      "page27 was successfully downloaded as html\n",
      "page28 was successfully downloaded as html\n",
      "page29 was successfully downloaded as html\n",
      "page30 was successfully downloaded as html\n",
      "page31 was successfully downloaded as html\n",
      "page32 was successfully downloaded as html\n",
      "page33 was successfully downloaded as html\n",
      "page34 was successfully downloaded as html\n",
      "page35 was successfully downloaded as html\n",
      "page36 was successfully downloaded as html\n",
      "page37 was successfully downloaded as html\n",
      "page38 was successfully downloaded as html\n",
      "page39 was successfully downloaded as html\n",
      "page40 was successfully downloaded as html\n",
      "page41 was successfully downloaded as html\n",
      "page42 was successfully downloaded as html\n",
      "page43 was successfully downloaded as html\n",
      "page44 was successfully downloaded as html\n",
      "page45 was successfully downloaded as html\n",
      "page46 was successfully downloaded as html\n",
      "page47 was successfully downloaded as html\n",
      "page48 was successfully downloaded as html\n",
      "page49 was successfully downloaded as html\n",
      "page50 was successfully downloaded as html\n"
     ]
    }
   ],
   "source": [
    "for i in range(1, 51):\n",
    "    url = f\"https://books.toscrape.com/catalogue/page-{i}.html\"\n",
    "    response = requests.get(url)\n",
    "    with open(f\"htmls/page{i}.html\", \"w\", encoding=\"utf-8\") as f:\n",
    "        f.write(response.text)\n",
    "        print(f\"page{i} was successfully downloaded as html\")"
   ]
  }
 ],
 "metadata": {
  "kernelspec": {
   "display_name": "Python 3 (ipykernel)",
   "language": "python",
   "name": "python3"
  },
  "language_info": {
   "codemirror_mode": {
    "name": "ipython",
    "version": 3
   },
   "file_extension": ".py",
   "mimetype": "text/x-python",
   "name": "python",
   "nbconvert_exporter": "python",
   "pygments_lexer": "ipython3",
   "version": "3.12.7"
  }
 },
 "nbformat": 4,
 "nbformat_minor": 5
}
